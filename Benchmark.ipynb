{
 "cells": [
  {
   "cell_type": "markdown",
   "metadata": {},
   "source": [
    "# Benchmark SGD Implementations  \n",
    "In this iPython notebook, we benchmark the Parallel implementaton of SGD against the implementation in SciKit-Learn library. We will use SGD in both cases for regression on synthetic data.   \n",
    "\n",
    "**Credits**  \n",
    "1. The parallel implementation here is based on this paper: Zinkevich, M., Weimer, M., Li, L., & Smola, A. (2010). Parallelized stochastic gradient descent. Advances in Neural Information Processing Systems, 1–36. Retrieved from http://papers.nips.cc/paper/4006-parallelized-stochastic-gradient-descent \n",
    "2. Niu, F., Recht, B., Re, C., & Wright, S. J. (2011). HOGWILD!: A Lock-Free Approach to Parallelizing Stochastic Gradient Descent. Advances in Neural Information Processing Systems, (1), 21. Retrieved from http://arxiv.org/abs/1106.5730 "
   ]
  },
  {
   "cell_type": "markdown",
   "metadata": {},
   "source": [
    "## The Dataset  \n",
    "The dataset will be generated using SciKit-Learn's `make_regression` function.  "
   ]
  },
  {
   "cell_type": "code",
   "execution_count": 1,
   "metadata": {
    "collapsed": false
   },
   "outputs": [],
   "source": [
    "from sklearn.datasets import make_regression\n",
    "import numpy as np\n",
    "from matplotlib import pyplot as plt\n",
    "%matplotlib inline\n",
    "import time"
   ]
  },
  {
   "cell_type": "code",
   "execution_count": 2,
   "metadata": {
    "collapsed": true
   },
   "outputs": [],
   "source": [
    "n_samples = 1000\n",
    "n_features = 1000\n",
    "seed = 1\n",
    "effective_rank = 100"
   ]
  },
  {
   "cell_type": "code",
   "execution_count": 3,
   "metadata": {
    "collapsed": false
   },
   "outputs": [],
   "source": [
    "X, y = make_regression(n_samples=n_samples, n_features=n_features, \n",
    "                       random_state=seed, noise=0.0, \n",
    "                       effective_rank=effective_rank)"
   ]
  },
  {
   "cell_type": "markdown",
   "metadata": {},
   "source": [
    "Split the dataset into train and test"
   ]
  },
  {
   "cell_type": "code",
   "execution_count": 4,
   "metadata": {
    "collapsed": false
   },
   "outputs": [
    {
     "name": "stderr",
     "output_type": "stream",
     "text": [
      "/Users/angad/code/CS240A/Parallel-SGD/venv/lib/python2.7/site-packages/sklearn/cross_validation.py:43: DeprecationWarning: This module has been deprecated in favor of the model_selection module into which all the refactored classes and functions are moved. Also note that the interface of the new CV iterators are different from that of this module. This module will be removed in 0.20.\n",
      "  \"This module will be removed in 0.20.\", DeprecationWarning)\n"
     ]
    }
   ],
   "source": [
    "from sklearn.cross_validation import ShuffleSplit"
   ]
  },
  {
   "cell_type": "code",
   "execution_count": 5,
   "metadata": {
    "collapsed": false
   },
   "outputs": [],
   "source": [
    "for train, test in ShuffleSplit(n=n_samples, n_iter=1, test_size=0.2):\n",
    "    X_train = X[train]\n",
    "    X_test = X[test]\n",
    "    y_train = y[train]\n",
    "    y_test = y[test]"
   ]
  },
  {
   "cell_type": "markdown",
   "metadata": {},
   "source": [
    "## SciKit-Learn SGD"
   ]
  },
  {
   "cell_type": "code",
   "execution_count": 6,
   "metadata": {
    "collapsed": false
   },
   "outputs": [],
   "source": [
    "from sklearn.linear_model import SGDRegressor"
   ]
  },
  {
   "cell_type": "code",
   "execution_count": 7,
   "metadata": {
    "collapsed": true
   },
   "outputs": [],
   "source": [
    "n_iter = 5000"
   ]
  },
  {
   "cell_type": "code",
   "execution_count": 8,
   "metadata": {
    "collapsed": false
   },
   "outputs": [
    {
     "name": "stdout",
     "output_type": "stream",
     "text": [
      "Baseline time: 13.79 seconds\n",
      "Baseline score: 0.26\n"
     ]
    }
   ],
   "source": [
    "sgd = SGDRegressor(n_iter=n_iter, warm_start=True)\n",
    "\n",
    "start_time = time.time()\n",
    "sgd.fit(X_train, y_train)\n",
    "time1 = time.time() - start_time\n",
    "\n",
    "print \"Baseline time: %0.2f seconds\" % time1\n",
    "\n",
    "score1 = sgd.score(X_test, y_test)\n",
    "print \"Baseline score: %0.2f\" % score1"
   ]
  },
  {
   "cell_type": "markdown",
   "metadata": {
    "collapsed": true
   },
   "source": [
    "## Parallel SGD\n",
    "Parallel implementation of SGD based on the simulation results from previous section"
   ]
  },
  {
   "cell_type": "code",
   "execution_count": null,
   "metadata": {
    "collapsed": true
   },
   "outputs": [],
   "source": [
    "from multiprocessing import Pool\n",
    "import utils\n",
    "import time\n",
    "import math"
   ]
  },
  {
   "cell_type": "code",
   "execution_count": null,
   "metadata": {
    "collapsed": false
   },
   "outputs": [],
   "source": [
    "import utils\n",
    "from joblib import Parallel, delayed"
   ]
  },
  {
   "cell_type": "markdown",
   "metadata": {},
   "source": [
    "### PSDG1 Performance\n",
    "Parallel SGD with reduced iterations per worker and one sync at the end. Iterations are split evenly amongst all workers"
   ]
  },
  {
   "cell_type": "code",
   "execution_count": null,
   "metadata": {
    "collapsed": false
   },
   "outputs": [],
   "source": [
    "speedup_acc_1 = []\n",
    "\n",
    "for n_jobs in range(1, 5):\n",
    "    n_iter_per_job = n_iter/n_jobs\n",
    "    t_iter = 10\n",
    "    start_time = time.time()\n",
    "    for _ in range(t_iter):\n",
    "        sgd = utils.psgd_1(SGDRegressor(), n_iter_per_job, n_jobs, X_train, y_train)\n",
    "    elapsed_time = (time.time() - start_time)/t_iter\n",
    "    speedup_acc_1 += [[time1/elapsed_time, sgd.score(X_test, y_test)]]\n",
    "\n",
    "speedup_acc_1 = np.array(speedup_acc_1).T"
   ]
  },
  {
   "cell_type": "code",
   "execution_count": null,
   "metadata": {
    "collapsed": false,
    "scrolled": false
   },
   "outputs": [],
   "source": [
    "plt.figure(figsize=(15, 3))\n",
    "\n",
    "plt.subplot(1, 3, 1)\n",
    "plt.plot(range(1,5), speedup_acc_1[0])\n",
    "plt.axhline(1, c='r')\n",
    "plt.xlabel(\"Processors\")\n",
    "plt.ylabel(\"Speed-up\")\n",
    "\n",
    "plt.subplot(1, 3, 2)\n",
    "plt.plot(range(1,5), speedup_acc_1[1])\n",
    "plt.axhline(y=score1, c='r')\n",
    "plt.xlabel(\"Processors\")\n",
    "plt.ylabel(\"Accuracy\")\n",
    "\n",
    "plt.subplot(1, 3, 3)\n",
    "plt.scatter(speedup_acc_1[0], speedup_acc_1[1])\n",
    "plt.xlabel(\"Speed-up\")\n",
    "plt.ylabel(\"Accuracy\")"
   ]
  },
  {
   "cell_type": "markdown",
   "metadata": {
    "collapsed": true
   },
   "source": [
    "### PSG2 Performance\n",
    "Parallel SGD with reduced iterations per worker and multiple syncs throughout the iterations. Iterations are split evenly amongst all workers. There are as many syncs as there are workers."
   ]
  },
  {
   "cell_type": "code",
   "execution_count": null,
   "metadata": {
    "collapsed": false
   },
   "outputs": [],
   "source": [
    "speedup_acc_2 = []\n",
    "\n",
    "for n_jobs in range(1, 5):\n",
    "    n_iter_per_job = n_iter/n_jobs\n",
    "    t_iter = 10\n",
    "    start_time = time.time()\n",
    "    for _ in range(t_iter):\n",
    "        sgd = utils.psgd_2(SGDRegressor(), n_iter_per_job, n_jobs, 10, X_train, y_train)\n",
    "    elapsed_time = (time.time() - start_time)/t_iter\n",
    "    speedup_acc_2 += [[time1/elapsed_time, sgd.score(X_test, y_test)]]\n",
    "\n",
    "speedup_acc_2 = np.array(speedup_acc_2).T"
   ]
  },
  {
   "cell_type": "code",
   "execution_count": null,
   "metadata": {
    "collapsed": false,
    "scrolled": true
   },
   "outputs": [],
   "source": [
    "plt.figure(figsize=(15, 3))\n",
    "\n",
    "plt.subplot(1, 3, 1)\n",
    "plt.plot(range(1,5), speedup_acc_2[0])\n",
    "plt.axhline(1, c='r')\n",
    "plt.xlabel(\"Processors\")\n",
    "plt.ylabel(\"Speed-up\")\n",
    "\n",
    "plt.subplot(1, 3, 2)\n",
    "plt.plot(range(1,5), speedup_acc_2[1])\n",
    "plt.axhline(y=score1, c='r')\n",
    "plt.xlabel(\"Processors\")\n",
    "plt.ylabel(\"Accuracy\")\n",
    "\n",
    "plt.subplot(1, 3, 3)\n",
    "plt.scatter(speedup_acc_2[0], speedup_acc_2[1])\n",
    "plt.xlabel(\"Speed-up\")\n",
    "plt.ylabel(\"Accuracy\")"
   ]
  },
  {
   "cell_type": "markdown",
   "metadata": {
    "collapsed": true
   },
   "source": [
    "### PSG3 Performance\n",
    "Parallel SGD with reduced iterations per worker, multiple syncs, and increased learning rate per worker. Iterations are split evenly amongst all workers. There are as many syncs as there are workers. The learning rate is increased by a factor of the number of workers."
   ]
  },
  {
   "cell_type": "code",
   "execution_count": null,
   "metadata": {
    "collapsed": false
   },
   "outputs": [],
   "source": [
    "speedup_acc_3 = []\n",
    "\n",
    "for n_jobs in range(1, 5):\n",
    "    n_iter_per_job = n_iter/n_jobs\n",
    "    t_iter = 10\n",
    "    start_time = time.time()\n",
    "    for _ in range(t_iter):\n",
    "        sgd = utils.psgd_3(SGDRegressor(), n_iter_per_job, n_jobs, 10, X_train, y_train)\n",
    "    elapsed_time = (time.time() - start_time)/t_iter\n",
    "    speedup_acc_3 += [[time1/elapsed_time, sgd.score(X_test, y_test)]]\n",
    "\n",
    "speedup_acc_3 = np.array(speedup_acc_3).T"
   ]
  },
  {
   "cell_type": "code",
   "execution_count": null,
   "metadata": {
    "collapsed": false,
    "scrolled": true
   },
   "outputs": [],
   "source": [
    "plt.figure(figsize=(15, 3))\n",
    "\n",
    "plt.subplot(1, 3, 1)\n",
    "plt.plot(range(1,5), speedup_acc_3[0])\n",
    "plt.axhline(1, c='r')\n",
    "plt.xlabel(\"Processors\")\n",
    "plt.ylabel(\"Speed-up\")\n",
    "\n",
    "plt.subplot(1, 3, 2)\n",
    "plt.plot(range(1,5), speedup_acc_3[1])\n",
    "plt.axhline(y=score1, c='r')\n",
    "plt.xlabel(\"Processors\")\n",
    "plt.ylabel(\"Accuracy\")\n",
    "\n",
    "plt.subplot(1, 3, 3)\n",
    "plt.scatter(speedup_acc_3[0], speedup_acc_3[1])\n",
    "plt.xlabel(\"Speed-up\")\n",
    "plt.ylabel(\"Accuracy\")"
   ]
  },
  {
   "cell_type": "markdown",
   "metadata": {
    "collapsed": true
   },
   "source": [
    "### PSG4 Performance\n",
    "Parallel SGD with reduced iterations per worker and shared weights. This is implemented using threading and shared memory. Iterations are split evenly amongst all workers. Each worker reads the weights from a shared memory, processes them, and overwrites it. "
   ]
  },
  {
   "cell_type": "code",
   "execution_count": null,
   "metadata": {
    "collapsed": false
   },
   "outputs": [],
   "source": [
    "speedup_acc_4 = []\n",
    "\n",
    "for n_jobs in range(1, 5):\n",
    "    n_iter_per_job = n_iter/n_jobs\n",
    "    t_iter = 1\n",
    "    start_time = time.time()\n",
    "    for _ in range(t_iter):\n",
    "        coef = np.random.sample(size=(X_train.shape[1],))\n",
    "        intercept = np.random.sample(size=(1,))\n",
    "        sgd = utils.psgd_4(SGDRegressor(), \n",
    "                       n_iter_per_job, n_jobs, \n",
    "                       X_train, y_train, \n",
    "                       coef, intercept)\n",
    "    elapsed_time = (time.time() - start_time)/t_iter\n",
    "    speedup_acc_4 += [[time1/elapsed_time, sgd.score(X_test, y_test)]]\n",
    "\n",
    "speedup_acc_4 = np.array(speedup_acc_4).T"
   ]
  },
  {
   "cell_type": "code",
   "execution_count": null,
   "metadata": {
    "collapsed": false,
    "scrolled": true
   },
   "outputs": [],
   "source": [
    "plt.figure(figsize=(15, 3))\n",
    "\n",
    "plt.subplot(1, 3, 1)\n",
    "plt.plot(range(1,5), speedup_acc_4[0])\n",
    "plt.axhline(1, c='r')\n",
    "plt.xlabel(\"Processors\")\n",
    "plt.ylabel(\"Speed-up\")\n",
    "\n",
    "plt.subplot(1, 3, 2)\n",
    "plt.plot(range(1,5), speedup_acc_4[1])\n",
    "plt.axhline(y=score1, c='r')\n",
    "plt.xlabel(\"Processors\")\n",
    "plt.ylabel(\"Accuracy\")\n",
    "\n",
    "plt.subplot(1, 3, 3)\n",
    "plt.scatter(speedup_acc_4[0], speedup_acc_4[1])\n",
    "plt.xlabel(\"Speed-up\")\n",
    "plt.ylabel(\"Accuracy\")"
   ]
  },
  {
   "cell_type": "markdown",
   "metadata": {
    "collapsed": true
   },
   "source": [
    "### PSG5 Performance\n",
    "Similar to PSGD4, but with parallelization implemented at a lower level.  \n",
    "Parallel SGD with reduced iterations per worker and shared weights. This is implemented using threading and shared memory. Iterations are split evenly amongst all workers. Each worker reads the weights from a shared memory, processes them, and overwrites it. "
   ]
  },
  {
   "cell_type": "code",
   "execution_count": null,
   "metadata": {
    "collapsed": false
   },
   "outputs": [],
   "source": [
    "speedup_acc_5 = []\n",
    "\n",
    "for n_jobs in range(1, 5):\n",
    "    n_iter_per_job = n_iter/n_jobs\n",
    "    t_iter = 1\n",
    "    start_time = time.time()\n",
    "    for _ in range(t_iter):\n",
    "        sgd = SGDRegressor(n_iter=n_iter, warm_start=True, n_jobs=n_jobs)\n",
    "    elapsed_time = (time.time() - start_time)/t_iter\n",
    "    speedup_acc_5 += [[time1/elapsed_time, sgd.score(X_test, y_test)]]\n",
    "\n",
    "speedup_acc_5 = np.array(speedup_acc_5).T"
   ]
  },
  {
   "cell_type": "code",
   "execution_count": null,
   "metadata": {
    "collapsed": false,
    "scrolled": true
   },
   "outputs": [],
   "source": [
    "plt.figure(figsize=(15, 3))\n",
    "\n",
    "plt.subplot(1, 3, 1)\n",
    "plt.plot(range(1,5), speedup_acc_5[0])\n",
    "plt.axhline(1, c='r')\n",
    "plt.xlabel(\"Processors\")\n",
    "plt.ylabel(\"Speed-up\")\n",
    "\n",
    "plt.subplot(1, 3, 2)\n",
    "plt.plot(range(1,5), speedup_acc_5[1])\n",
    "plt.axhline(y=score1, c='r')\n",
    "plt.xlabel(\"Processors\")\n",
    "plt.ylabel(\"Accuracy\")\n",
    "\n",
    "plt.subplot(1, 3, 3)\n",
    "plt.scatter(speedup_acc_5[0], speedup_acc_5[1])\n",
    "plt.xlabel(\"Speed-up\")\n",
    "plt.ylabel(\"Accuracy\")"
   ]
  },
  {
   "cell_type": "code",
   "execution_count": null,
   "metadata": {
    "collapsed": true
   },
   "outputs": [],
   "source": []
  }
 ],
 "metadata": {
  "kernelspec": {
   "display_name": "Python 2",
   "language": "python",
   "name": "python2"
  },
  "language_info": {
   "codemirror_mode": {
    "name": "ipython",
    "version": 2
   },
   "file_extension": ".py",
   "mimetype": "text/x-python",
   "name": "python",
   "nbconvert_exporter": "python",
   "pygments_lexer": "ipython2",
   "version": "2.7.10"
  }
 },
 "nbformat": 4,
 "nbformat_minor": 0
}
