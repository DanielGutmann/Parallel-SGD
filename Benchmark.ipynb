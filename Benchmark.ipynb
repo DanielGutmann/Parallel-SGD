{
 "cells": [
  {
   "cell_type": "markdown",
   "metadata": {},
   "source": [
    "# Benchmark SGD Implementations  \n",
    "In this iPython notebook, we benchmark the Parallel implementaton of SGD against the implementation in SciKit-Learn library. We will use SGD in both cases for regression on synthetic data.   "
   ]
  },
  {
   "cell_type": "markdown",
   "metadata": {},
   "source": [
    "## The Dataset  \n",
    "The dataset will be generated using SciKit-Learn's `make_regression` function.  "
   ]
  },
  {
   "cell_type": "code",
   "execution_count": 1,
   "metadata": {
    "collapsed": false
   },
   "outputs": [
    {
     "name": "stderr",
     "output_type": "stream",
     "text": [
      "/usr/local/lib/python2.7/dist-packages/matplotlib/font_manager.py:273: UserWarning: Matplotlib is building the font cache using fc-list. This may take a moment.\n",
      "  warnings.warn('Matplotlib is building the font cache using fc-list. This may take a moment.')\n"
     ]
    }
   ],
   "source": [
    "from sklearn.datasets import make_regression\n",
    "import numpy as np\n",
    "from matplotlib import pyplot as plt\n",
    "%matplotlib inline"
   ]
  },
  {
   "cell_type": "code",
   "execution_count": 2,
   "metadata": {
    "collapsed": true
   },
   "outputs": [],
   "source": [
    "n_samples = 1000\n",
    "n_features = 100\n",
    "seed = 1"
   ]
  },
  {
   "cell_type": "code",
   "execution_count": 3,
   "metadata": {
    "collapsed": false
   },
   "outputs": [],
   "source": [
    "X, y = make_regression(n_samples=n_samples, n_features=n_features, random_state=seed, noise=1.0, effective_rank=100)"
   ]
  },
  {
   "cell_type": "markdown",
   "metadata": {},
   "source": [
    "Split the dataset into train and test"
   ]
  },
  {
   "cell_type": "code",
   "execution_count": 4,
   "metadata": {
    "collapsed": true
   },
   "outputs": [],
   "source": [
    "from sklearn.cross_validation import ShuffleSplit"
   ]
  },
  {
   "cell_type": "code",
   "execution_count": 5,
   "metadata": {
    "collapsed": false
   },
   "outputs": [],
   "source": [
    "for train, test in ShuffleSplit(n=n_samples, n_iter=1, test_size=0.2):\n",
    "    pass"
   ]
  },
  {
   "cell_type": "code",
   "execution_count": 6,
   "metadata": {
    "collapsed": false
   },
   "outputs": [],
   "source": [
    "X_train = X[train]\n",
    "X_test = X[test]\n",
    "y_train = y[train]\n",
    "y_test = y[test]"
   ]
  },
  {
   "cell_type": "markdown",
   "metadata": {},
   "source": [
    "## SciKit-Learn SGD"
   ]
  },
  {
   "cell_type": "code",
   "execution_count": 7,
   "metadata": {
    "collapsed": true
   },
   "outputs": [],
   "source": [
    "from sklearn.linear_model import SGDRegressor"
   ]
  },
  {
   "cell_type": "code",
   "execution_count": 8,
   "metadata": {
    "collapsed": true
   },
   "outputs": [],
   "source": [
    "n_iter = 10000"
   ]
  },
  {
   "cell_type": "code",
   "execution_count": 9,
   "metadata": {
    "collapsed": false
   },
   "outputs": [],
   "source": [
    "sgd = SGDRegressor(n_iter=n_iter)"
   ]
  },
  {
   "cell_type": "code",
   "execution_count": 10,
   "metadata": {
    "collapsed": false
   },
   "outputs": [
    {
     "name": "stdout",
     "output_type": "stream",
     "text": [
      "CPU times: user 2.29 s, sys: 5.08 ms, total: 2.3 s\n",
      "Wall time: 2.29 s\n"
     ]
    },
    {
     "data": {
      "text/plain": [
       "SGDRegressor(alpha=0.0001, average=False, epsilon=0.1, eta0=0.01,\n",
       "       fit_intercept=True, l1_ratio=0.15, learning_rate='invscaling',\n",
       "       loss='squared_loss', n_iter=10000, penalty='l2', power_t=0.25,\n",
       "       random_state=None, shuffle=True, verbose=0, warm_start=False)"
      ]
     },
     "execution_count": 10,
     "metadata": {},
     "output_type": "execute_result"
    }
   ],
   "source": [
    "%time sgd.fit(X_train, y_train)"
   ]
  },
  {
   "cell_type": "code",
   "execution_count": 11,
   "metadata": {
    "collapsed": false
   },
   "outputs": [
    {
     "data": {
      "text/plain": [
       "0.83271972290526819"
      ]
     },
     "execution_count": 11,
     "metadata": {},
     "output_type": "execute_result"
    }
   ],
   "source": [
    "sgd.score(X_test, y_test)"
   ]
  },
  {
   "cell_type": "code",
   "execution_count": 12,
   "metadata": {
    "collapsed": false
   },
   "outputs": [],
   "source": [
    "scores = []\n",
    "sgd = SGDRegressor(n_iter=1, warm_start=True)\n",
    "for i in range(n_iter):\n",
    "    sgd.partial_fit(X_train, y_train)\n",
    "    scores += [sgd.score(X_test, y_test)]"
   ]
  },
  {
   "cell_type": "code",
   "execution_count": 13,
   "metadata": {
    "collapsed": false
   },
   "outputs": [
    {
     "data": {
      "text/plain": [
       "[<matplotlib.lines.Line2D at 0x7f0032887bd0>]"
      ]
     },
     "execution_count": 13,
     "metadata": {},
     "output_type": "execute_result"
    },
    {
     "data": {
      "image/png": "[encoded data removed]",
      "text/plain": [
       "<matplotlib.figure.Figure at 0x7f00329203d0>"
      ]
     },
     "metadata": {},
     "output_type": "display_data"
    }
   ],
   "source": [
    "plt.plot(range(len(scores)), scores)"
   ]
  },
  {
   "cell_type": "code",
   "execution_count": 14,
   "metadata": {
    "collapsed": false
   },
   "outputs": [
    {
     "data": {
      "text/plain": [
       "0.83271100545502186"
      ]
     },
     "execution_count": 14,
     "metadata": {},
     "output_type": "execute_result"
    }
   ],
   "source": [
    "scores[-1]"
   ]
  },
  {
   "cell_type": "markdown",
   "metadata": {},
   "source": [
    "##  Parallel SGD\n",
    "**Work in progress.**  "
   ]
  },
  {
   "cell_type": "markdown",
   "metadata": {},
   "source": [
    "### Test 1: Split data evenly, synchronize at the end\n",
    "Simulate running SGD in parallel such that the input data is split evenly amongst the workers. The weights are synchronized once after all workers are done."
   ]
  },
  {
   "cell_type": "code",
   "execution_count": 16,
   "metadata": {
    "collapsed": false
   },
   "outputs": [],
   "source": [
    "def parallel_sgd_scores(X_train, y_train, X_test, y_test, n_iter, n_jobs, split_per_job, overlap=False):\n",
    "    \n",
    "    print \"Spliting data...\"\n",
    "    \n",
    "    if overlap:\n",
    "        data_size = len(X_train)\n",
    "        splits = [np.random.choice(data_size, size=int(split_per_job*data_size), replace=False) for _ in range(n_jobs)]\n",
    "        data = zip([X_train[split] for split in splits], [y_train[split] for split in splits])\n",
    "    else:\n",
    "        if split_per_job!=1/n_jobs:\n",
    "            raise Exception(\"split_per_job must be equal to 1/n_jobs\")\n",
    "        data = zip(np.split(X_train, n_jobs), np.split(y_train, n_jobs))\n",
    "\n",
    "\n",
    "    # Execute in parallel\n",
    "    print \"Executing %d jobs\" % n_jobs\n",
    "    \n",
    "    scores = []\n",
    "    \n",
    "    sgds =[]\n",
    "    for n in range(n_jobs):\n",
    "        sgds += [SGDRegressor(n_iter=1, warm_start=True)]\n",
    "\n",
    "    for i in range(n_iter):\n",
    "        iter_scores = []\n",
    "        iter_coefs = []\n",
    "        iter_intercepts = []\n",
    "        \n",
    "        for n, sgd in enumerate(sgds):\n",
    "            sgd.partial_fit(data[n][0], data[n][1])\n",
    "#             sgd.fit(X_train, y_train)\n",
    "            iter_scores += [sgd.score(X_test, y_test)]\n",
    "            iter_coefs += [sgd.coef_]\n",
    "            iter_intercepts += [sgd.intercept_]\n",
    "        \n",
    "        iter_coefs = np.mean(np.array(iter_coefs), axis=0)\n",
    "        iter_intercepts = np.mean(np.array(iter_intercepts), axis=0)\n",
    "        \n",
    "        sgd = SGDRegressor()\n",
    "        sgd.coef_ = iter_coefs\n",
    "        sgd.intercept_ = iter_intercepts\n",
    "        iter_scores += [sgd.score(X_test, y_test)]\n",
    "        \n",
    "        scores += [iter_scores]\n",
    "        \n",
    "    return scores"
   ]
  },
  {
   "cell_type": "code",
   "execution_count": 26,
   "metadata": {
    "collapsed": false,
    "scrolled": true
   },
   "outputs": [
    {
     "name": "stdout",
     "output_type": "stream",
     "text": [
      "Spliting data...\n",
      "Executing 4 jobs\n"
     ]
    }
   ],
   "source": [
    "n_jobs = 4\n",
    "\n",
    "scores = parallel_sgd_scores(X_train, y_train, X_test, y_test, n_iter, n_jobs, split_per_job=1/n_jobs, overlap=False)"
   ]
  },
  {
   "cell_type": "code",
   "execution_count": 27,
   "metadata": {
    "collapsed": true
   },
   "outputs": [],
   "source": [
    "scores = np.array(scores).T"
   ]
  },
  {
   "cell_type": "code",
   "execution_count": 28,
   "metadata": {
    "collapsed": false
   },
   "outputs": [
    {
     "data": {
      "text/plain": [
       "[<matplotlib.lines.Line2D at 0x7f0032335e50>]"
      ]
     },
     "execution_count": 28,
     "metadata": {},
     "output_type": "execute_result"
    },
    {
     "data": {
      "image/png": "[encoded data removed]",
      "text/plain": [
       "<matplotlib.figure.Figure at 0x7f00325f6110>"
      ]
     },
     "metadata": {},
     "output_type": "display_data"
    }
   ],
   "source": [
    "# for s in scores[:-1]:\n",
    "#     plt.figure(1)\n",
    "#     plt.plot(range(len(s)), s)\n",
    "plt.figure(1)\n",
    "plt.plot(range(len(scores[-1])), scores[-1], '--')"
   ]
  },
  {
   "cell_type": "markdown",
   "metadata": {},
   "source": [
    "### Test 2: Don't Split data, synchronize at the end\n",
    "Simulate running SGD in parallel such that all workers have access to all the data. The weights are synchronized once after all workers are done.\n"
   ]
  },
  {
   "cell_type": "code",
   "execution_count": 29,
   "metadata": {
    "collapsed": false,
    "scrolled": true
   },
   "outputs": [
    {
     "name": "stdout",
     "output_type": "stream",
     "text": [
      "Spliting data...\n",
      "Executing 4 jobs\n"
     ]
    }
   ],
   "source": [
    "n_jobs = 4\n",
    "scores = parallel_sgd_scores(X_train, y_train, X_test, y_test, n_iter, n_jobs, split_per_job=1, overlap=True)"
   ]
  },
  {
   "cell_type": "code",
   "execution_count": 30,
   "metadata": {
    "collapsed": true
   },
   "outputs": [],
   "source": [
    "scores = np.array(scores).T"
   ]
  },
  {
   "cell_type": "code",
   "execution_count": 31,
   "metadata": {
    "collapsed": false
   },
   "outputs": [
    {
     "data": {
      "text/plain": [
       "[<matplotlib.lines.Line2D at 0x7f0032274690>]"
      ]
     },
     "execution_count": 31,
     "metadata": {},
     "output_type": "execute_result"
    },
    {
     "data": {
      "image/png": "[encoded data removed]",
      "text/plain": [
       "<matplotlib.figure.Figure at 0x7f0032578190>"
      ]
     },
     "metadata": {},
     "output_type": "display_data"
    }
   ],
   "source": [
    "# for s in scores[:-1]:\n",
    "#     plt.figure(1)\n",
    "#     plt.plot(range(len(s)), s)\n",
    "plt.figure(1)\n",
    "plt.plot(range(len(scores[-1])), scores[-1], '--')"
   ]
  },
  {
   "cell_type": "markdown",
   "metadata": {},
   "source": [
    "### Test 3: Split data with overlap, synchronize at the end"
   ]
  },
  {
   "cell_type": "code",
   "execution_count": 32,
   "metadata": {
    "collapsed": false,
    "scrolled": true
   },
   "outputs": [
    {
     "name": "stdout",
     "output_type": "stream",
     "text": [
      "Spliting data...\n",
      "Executing 4 jobs\n"
     ]
    }
   ],
   "source": [
    "n_jobs = 4\n",
    "scores = parallel_sgd_scores(X_train, y_train, X_test, y_test, n_iter, n_jobs, split_per_job=0.5, overlap=True)"
   ]
  },
  {
   "cell_type": "code",
   "execution_count": 33,
   "metadata": {
    "collapsed": true
   },
   "outputs": [],
   "source": [
    "scores = np.array(scores).T"
   ]
  },
  {
   "cell_type": "code",
   "execution_count": 34,
   "metadata": {
    "collapsed": false
   },
   "outputs": [
    {
     "data": {
      "text/plain": [
       "[<matplotlib.lines.Line2D at 0x7f0032219590>]"
      ]
     },
     "execution_count": 34,
     "metadata": {},
     "output_type": "execute_result"
    },
    {
     "data": {
      "image/png": "[encoded data removed]",
      "text/plain": [
       "<matplotlib.figure.Figure at 0x7f003246c810>"
      ]
     },
     "metadata": {},
     "output_type": "display_data"
    }
   ],
   "source": [
    "# for s in scores[:-1]:\n",
    "#     plt.figure(1)\n",
    "#     plt.plot(range(len(s)), s)\n",
    "plt.figure(1)\n",
    "plt.plot(range(len(scores[-1])), scores[-1], '--')"
   ]
  },
  {
   "cell_type": "code",
   "execution_count": 35,
   "metadata": {
    "collapsed": false,
    "scrolled": true
   },
   "outputs": [
    {
     "name": "stdout",
     "output_type": "stream",
     "text": [
      "Spliting data...\n",
      "Executing 4 jobs\n"
     ]
    }
   ],
   "source": [
    "n_jobs = 4\n",
    "scores = parallel_sgd_scores(X_train, y_train, X_test, y_test, n_iter, n_jobs, split_per_job=0.25, overlap=True)"
   ]
  },
  {
   "cell_type": "code",
   "execution_count": 36,
   "metadata": {
    "collapsed": true
   },
   "outputs": [],
   "source": [
    "scores = np.array(scores).T"
   ]
  },
  {
   "cell_type": "code",
   "execution_count": 37,
   "metadata": {
    "collapsed": false
   },
   "outputs": [
    {
     "data": {
      "text/plain": [
       "[<matplotlib.lines.Line2D at 0x7f003214b4d0>]"
      ]
     },
     "execution_count": 37,
     "metadata": {},
     "output_type": "execute_result"
    },
    {
     "data": {
      "image/png": "[encoded data removed]",
      "text/plain": [
       "<matplotlib.figure.Figure at 0x7f00324456d0>"
      ]
     },
     "metadata": {},
     "output_type": "display_data"
    }
   ],
   "source": [
    "# for s in scores[:-1]:\n",
    "#     plt.figure(1)\n",
    "#     plt.plot(range(len(s)), s)\n",
    "plt.figure(1)\n",
    "plt.plot(range(len(scores[-1])), scores[-1], '--')"
   ]
  },
  {
   "cell_type": "markdown",
   "metadata": {},
   "source": [
    "### Test 4: Split data with overlap, synchronize 2 times\n",
    "**Pending**"
   ]
  },
  {
   "cell_type": "code",
   "execution_count": null,
   "metadata": {
    "collapsed": true
   },
   "outputs": [],
   "source": []
  },
  {
   "cell_type": "markdown",
   "metadata": {
    "collapsed": true
   },
   "source": [
    "### Hacky parallel SGD"
   ]
  },
  {
   "cell_type": "code",
   "execution_count": null,
   "metadata": {
    "collapsed": true
   },
   "outputs": [],
   "source": [
    "from multiprocessing import Pool"
   ]
  },
  {
   "cell_type": "code",
   "execution_count": null,
   "metadata": {
    "collapsed": true
   },
   "outputs": [],
   "source": [
    "import numpy as np"
   ]
  },
  {
   "cell_type": "code",
   "execution_count": null,
   "metadata": {
    "collapsed": true
   },
   "outputs": [],
   "source": [
    "def psgd_method(args):\n",
    "    X_train, y_train, n_iter = args\n",
    "    sgd = SGDRegressor(n_iter=n_iter)\n",
    "    sgd.fit(X_train, y_train)\n",
    "    return sgd.coef_, sgd.intercept_"
   ]
  },
  {
   "cell_type": "code",
   "execution_count": null,
   "metadata": {
    "collapsed": true
   },
   "outputs": [],
   "source": [
    "def add_results(x, y):\n",
    "    return x[0]+y[0], x[1]+y[1]"
   ]
  },
  {
   "cell_type": "code",
   "execution_count": null,
   "metadata": {
    "collapsed": true
   },
   "outputs": [],
   "source": [
    "def parallel_sgd(sgd, pool, X, y, n_iter, n_jobs):\n",
    "    \n",
    "    # Split data into n_jobs chunks\n",
    "    print \"Spliting data...\"\n",
    "    data = zip(np.split(X_train, n_jobs), \n",
    "               np.split(y_train, n_jobs), \n",
    "               [n_iter for _ in range(n_jobs)])\n",
    "    \n",
    "    # Execute in parallel\n",
    "    print \"Executing in parallel...\"\n",
    "    result = pool.map(psgd_method, data)\n",
    "    \n",
    "    # Combine results\n",
    "    print \"Combining results...\"\n",
    "#     result = reduce(add_results, result)\n",
    "#     result = [x/n_jobs for x in result]\n",
    "    result = np.mean(np.array(result), axis=0)\n",
    "    \n",
    "    # Add coefs and intercept to the sgd object\n",
    "    coef, intercept = result\n",
    "    sgd.coef_ = coef\n",
    "    sgd.intercept_ = intercept\n",
    "    \n",
    "    return sgd\n",
    "    "
   ]
  },
  {
   "cell_type": "code",
   "execution_count": null,
   "metadata": {
    "collapsed": true
   },
   "outputs": [],
   "source": [
    "n_jobs = 4"
   ]
  },
  {
   "cell_type": "code",
   "execution_count": null,
   "metadata": {
    "collapsed": false
   },
   "outputs": [],
   "source": [
    "pool = Pool(processes=n_jobs)"
   ]
  },
  {
   "cell_type": "code",
   "execution_count": null,
   "metadata": {
    "collapsed": false
   },
   "outputs": [],
   "source": [
    "%time sgd_p = parallel_sgd(SGDRegressor(), pool, X_train, y_train, n_iter, n_jobs)"
   ]
  },
  {
   "cell_type": "code",
   "execution_count": null,
   "metadata": {
    "collapsed": false,
    "scrolled": true
   },
   "outputs": [],
   "source": [
    "sgd_p.score(X_test, y_test)"
   ]
  },
  {
   "cell_type": "code",
   "execution_count": null,
   "metadata": {
    "collapsed": true
   },
   "outputs": [],
   "source": []
  }
 ],
 "metadata": {
  "kernelspec": {
   "display_name": "Python 2",
   "language": "python",
   "name": "python2"
  },
  "language_info": {
   "codemirror_mode": {
    "name": "ipython",
    "version": 2
   },
   "file_extension": ".py",
   "mimetype": "text/x-python",
   "name": "python",
   "nbconvert_exporter": "python",
   "pygments_lexer": "ipython2",
   "version": "2.7.6"
  }
 },
 "nbformat": 4,
 "nbformat_minor": 0
}
